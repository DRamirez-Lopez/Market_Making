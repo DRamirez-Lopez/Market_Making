{
 "cells": [
  {
   "cell_type": "code",
   "execution_count": 1,
   "id": "302a0167",
   "metadata": {},
   "outputs": [
    {
     "ename": "NameError",
     "evalue": "name 'EnvConfig' is not defined",
     "output_type": "error",
     "traceback": [
      "\u001b[31m---------------------------------------------------------------------------\u001b[39m",
      "\u001b[31mNameError\u001b[39m                                 Traceback (most recent call last)",
      "\u001b[36mCell\u001b[39m\u001b[36m \u001b[39m\u001b[32mIn[1]\u001b[39m\u001b[32m, line 9\u001b[39m\n\u001b[32m      4\u001b[39m obs, info = env.reset()\n\u001b[32m      5\u001b[39m obs, reward, terminated, truncated, info = env.step(env.action_space.sample())\n\u001b[32m----> \u001b[39m\u001b[32m9\u001b[39m \u001b[38;5;28;01mdef\u001b[39;00m\u001b[38;5;250m \u001b[39m\u001b[34mmake_env\u001b[39m(cfg: \u001b[43mEnvConfig\u001b[49m | \u001b[38;5;28;01mNone\u001b[39;00m = \u001b[38;5;28;01mNone\u001b[39;00m, seed: \u001b[38;5;28mint\u001b[39m | \u001b[38;5;28;01mNone\u001b[39;00m = \u001b[38;5;28;01mNone\u001b[39;00m) -> MarketMakingEnv:\n\u001b[32m     10\u001b[39m     cfg = cfg \u001b[38;5;129;01mor\u001b[39;00m EnvConfig()\n\u001b[32m     11\u001b[39m     \u001b[38;5;28;01mif\u001b[39;00m seed \u001b[38;5;129;01mis\u001b[39;00m \u001b[38;5;129;01mnot\u001b[39;00m \u001b[38;5;28;01mNone\u001b[39;00m:\n",
      "\u001b[31mNameError\u001b[39m: name 'EnvConfig' is not defined"
     ]
    }
   ],
   "source": [
    "#Convenience factory\n",
    "from avellaneda_stoikov_gym_env import MarketMakingEnv, make_env\n",
    "env = make_env(seed=0)\n",
    "obs, info = env.reset()\n",
    "obs, reward, terminated, truncated, info = env.step(env.action_space.sample())\n",
    "\n",
    "\n",
    "\n",
    "def make_env(cfg: EnvConfig | None = None, seed: int | None = None) -> MarketMakingEnv:\n",
    "    cfg = cfg or EnvConfig()\n",
    "    if seed is not None:\n",
    "        cfg.seed = seed\n",
    "    return MarketMakingEnv(cfg)\n",
    "\n",
    "\n",
    "# --------------------------- Training Example (SB3) ----------------------------\n",
    "if __name__ == \"__main__\":\n",
    "    try:\n",
    "        from stable_baselines3 import PPO\n",
    "        from stable_baselines3.common.vec_env import DummyVecEnv\n",
    "        from stable_baselines3.common.monitor import Monitor\n",
    "    except Exception as e:\n",
    "        print(\"Stable-Baselines3 not available. Install with: pip install stable-baselines3\")\n",
    "        raise\n",
    "\n",
    "    # Create and wrap env\n",
    "    def _factory():\n",
    "        env = make_env(seed=42)\n",
    "        return Monitor(env)\n",
    "\n",
    "    vec_env = DummyVecEnv([_factory])\n",
    "\n",
    "    model = PPO(\n",
    "        \"MlpPolicy\",\n",
    "        vec_env,\n",
    "        verbose=1,\n",
    "        n_steps=2048,\n",
    "        batch_size=256,\n",
    "        gae_lambda=0.95,\n",
    "        gamma=0.999,          # long-ish horizon\n",
    "        learning_rate=3e-4,\n",
    "        clip_range=0.2,\n",
    "        ent_coef=0.01,\n",
    "        tensorboard_log=None,\n",
    "        device=\"auto\",\n",
    "    )\n",
    "\n",
    "    timesteps = 200_000\n",
    "    model.learn(total_timesteps=timesteps)\n",
    "\n",
    "    # Quick evaluation rollout\n",
    "    env = make_env(seed=123)\n",
    "    obs, info = env.reset()\n",
    "    total_reward = 0.0\n",
    "    while True:\n",
    "        action, _ = model.predict(obs, deterministic=True)\n",
    "        obs, reward, terminated, truncated, info = env.step(action)\n",
    "        total_reward += reward\n",
    "        if terminated or truncated:\n",
    "            break\n",
    "    final_pnl = info[\"pnl\"]\n",
    "    print(f\"Episode finished. Total reward: {total_reward:.2f}  Final PnL: {final_pnl:.2f}\")"
   ]
  }
 ],
 "metadata": {
  "kernelspec": {
   "display_name": "mmrl",
   "language": "python",
   "name": "python3"
  },
  "language_info": {
   "codemirror_mode": {
    "name": "ipython",
    "version": 3
   },
   "file_extension": ".py",
   "mimetype": "text/x-python",
   "name": "python",
   "nbconvert_exporter": "python",
   "pygments_lexer": "ipython3",
   "version": "3.12.11"
  }
 },
 "nbformat": 4,
 "nbformat_minor": 5
}
